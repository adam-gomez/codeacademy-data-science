{
 "cells": [
  {
   "cell_type": "markdown",
   "metadata": {},
   "source": [
    "# U.S. Medical Insurance Costs\n",
    "\n",
    "In this project, I will be analyzing the 'insurance.csv' file provided by Codeacademy. This file contains insurance information about individuals. Lets take a look by reading the csv using pandas."
   ]
  },
  {
   "cell_type": "code",
   "execution_count": 1,
   "metadata": {},
   "outputs": [],
   "source": [
    "import pandas as pd\n",
    "import numpy as np\n",
    "import matplotlib.pyplot as plt\n",
    "import seaborn as sns"
   ]
  },
  {
   "cell_type": "markdown",
   "metadata": {},
   "source": [
    "# Acquire"
   ]
  },
  {
   "cell_type": "code",
   "execution_count": 2,
   "metadata": {},
   "outputs": [],
   "source": [
    "raw_csv_data = pd.read_csv('insurance.csv')"
   ]
  },
  {
   "cell_type": "code",
   "execution_count": 3,
   "metadata": {},
   "outputs": [
    {
     "name": "stdout",
     "output_type": "stream",
     "text": [
      "<class 'pandas.core.frame.DataFrame'>\n",
      "RangeIndex: 1338 entries, 0 to 1337\n",
      "Data columns (total 7 columns):\n",
      " #   Column    Non-Null Count  Dtype  \n",
      "---  ------    --------------  -----  \n",
      " 0   age       1338 non-null   int64  \n",
      " 1   sex       1338 non-null   object \n",
      " 2   bmi       1338 non-null   float64\n",
      " 3   children  1338 non-null   int64  \n",
      " 4   smoker    1338 non-null   object \n",
      " 5   region    1338 non-null   object \n",
      " 6   charges   1338 non-null   float64\n",
      "dtypes: float64(2), int64(2), object(3)\n",
      "memory usage: 73.3+ KB\n"
     ]
    }
   ],
   "source": [
    "raw_csv_data.info()"
   ]
  },
  {
   "cell_type": "markdown",
   "metadata": {},
   "source": [
    "From intial inspection, there do not appear to be any null values, though we will need to confirm that all entries are meaningful. Lets take a look at the type of values that are in each of these columns."
   ]
  },
  {
   "cell_type": "code",
   "execution_count": 4,
   "metadata": {},
   "outputs": [
    {
     "data": {
      "text/html": [
       "<div>\n",
       "<style scoped>\n",
       "    .dataframe tbody tr th:only-of-type {\n",
       "        vertical-align: middle;\n",
       "    }\n",
       "\n",
       "    .dataframe tbody tr th {\n",
       "        vertical-align: top;\n",
       "    }\n",
       "\n",
       "    .dataframe thead th {\n",
       "        text-align: right;\n",
       "    }\n",
       "</style>\n",
       "<table border=\"1\" class=\"dataframe\">\n",
       "  <thead>\n",
       "    <tr style=\"text-align: right;\">\n",
       "      <th></th>\n",
       "      <th>age</th>\n",
       "      <th>sex</th>\n",
       "      <th>bmi</th>\n",
       "      <th>children</th>\n",
       "      <th>smoker</th>\n",
       "      <th>region</th>\n",
       "      <th>charges</th>\n",
       "    </tr>\n",
       "  </thead>\n",
       "  <tbody>\n",
       "    <tr>\n",
       "      <th>240</th>\n",
       "      <td>23</td>\n",
       "      <td>female</td>\n",
       "      <td>36.67</td>\n",
       "      <td>2</td>\n",
       "      <td>yes</td>\n",
       "      <td>northeast</td>\n",
       "      <td>38511.6283</td>\n",
       "    </tr>\n",
       "  </tbody>\n",
       "</table>\n",
       "</div>"
      ],
      "text/plain": [
       "     age     sex    bmi  children smoker     region     charges\n",
       "240   23  female  36.67         2    yes  northeast  38511.6283"
      ]
     },
     "execution_count": 4,
     "metadata": {},
     "output_type": "execute_result"
    }
   ],
   "source": [
    "raw_csv_data.sample(1)"
   ]
  },
  {
   "cell_type": "code",
   "execution_count": 5,
   "metadata": {},
   "outputs": [
    {
     "data": {
      "text/plain": [
       "array(['female', 'male'], dtype=object)"
      ]
     },
     "execution_count": 5,
     "metadata": {},
     "output_type": "execute_result"
    }
   ],
   "source": [
    "raw_csv_data['sex'].unique()"
   ]
  },
  {
   "cell_type": "code",
   "execution_count": 6,
   "metadata": {},
   "outputs": [
    {
     "data": {
      "text/plain": [
       "array(['yes', 'no'], dtype=object)"
      ]
     },
     "execution_count": 6,
     "metadata": {},
     "output_type": "execute_result"
    }
   ],
   "source": [
    "raw_csv_data['smoker'].unique()"
   ]
  },
  {
   "cell_type": "code",
   "execution_count": 7,
   "metadata": {},
   "outputs": [
    {
     "data": {
      "text/plain": [
       "array(['southwest', 'southeast', 'northwest', 'northeast'], dtype=object)"
      ]
     },
     "execution_count": 7,
     "metadata": {},
     "output_type": "execute_result"
    }
   ],
   "source": [
    "raw_csv_data['region'].unique()"
   ]
  },
  {
   "cell_type": "markdown",
   "metadata": {},
   "source": [
    "Each record (row) is information about a single patient. There are 7 columns, each representing a different characteristic:\n",
    "   - **Age**: Age of the individual\n",
    "        - Presumably measured in years (rounded down)\n",
    "        - Presumably measured according to western standards (age at birth = 0)\n",
    "   - **Sex**: Biological sex of the individual\n",
    "        - Binary (male/female)\n",
    "   - **BMI**: Body mass index\n",
    "        - Broadly used to categorize an individuals weight\n",
    "        - Formula: body mass divided by the square of the body height in units of (kg/m$^2$)\n",
    "        - Continuous decimal values are commonly categorized as:\n",
    "            - Underweight (<18.5 kg/m$^2$)\n",
    "            - Normal Weight (>= 18.5 & < 25)\n",
    "            - Overweight (>= 25 & < 30)\n",
    "            - Obese (>= 30)\n",
    "   - **Children**: Number of children\n",
    "       - Presumably biological\n",
    "   - **Smoker**: Whether or not an individual is a 'smoker' or not\n",
    "       - Binary, but not additional information on what constitutes a smoker for this data set\n",
    "   - **Region**: Geographical location\n",
    "       - Categorized into four regions (Southwest, Southeast, Northwest, Northeast)\n",
    "   - **Charges**: A float value in some type of currency\n",
    "       - The type of currency is unclear, and the number of decimal places represented is unlike most common currency conventions\n",
    "       - This may represent the premiums that the individual paid during some common time window, or may represent a yearly premium, or may represent the charges that the insurance company had to pay on behalf of the patient for medical services and goods. "
   ]
  },
  {
   "cell_type": "markdown",
   "metadata": {},
   "source": [
    "# Goal\n",
    "Given the nature of this data, there are a few things that we could pursue.\n",
    "\n",
    "1) Predicting charges based on the other factors\n",
    "- Depending on what charges might be, we may be able to develop a model that can predict charges for future customers based on their other characteristics.\n",
    "- An issue with this is not knowing what charges precisely represent. If the value for charges is developed from the application of a simple, but hidden, formula, we may be able to identify that hidden formula, but this may provide little help to an insurance company seeking to better understand their customers (potential or actual).\n",
    "- From prior Codeacademy tutorials using similar data, charges was determined using a simple formula like:\n",
    "\n",
    "    $charges$ = ($Coef_{age}$ * $age$) + ($Coef_{sex}$ * $sex$) + ($Coef_{bmi}$ * $bmi$) + ($Coef_{children}$ * $children$) + ($Coef_{smoker}$ * $smoker$) + ($Coef_{region}$ * $region$) + $C$\n",
    "\n",
    "2) Predicting one of the variables (age, sex, BMI, children, smoker, or region) based on any combination of the other variables. \n",
    "- Of the variables represented, arguably the one that may have both the biggest impact on the health costs of an individual and the one that consumers have the highest incentive to withhold (and the easiest success in hiding) is the smoking characteristic. \n",
    "- If we assume that the charges are built off of a formula, we will not want to use this as a feature in our model. \n",
    "        \n",
    "For this reason our goal for this exploration will be as follows:\n",
    "1) Split the dataset into train, validate, and test data sets  \n",
    "2) Explore the train dataset and identify possible characteristics to utilize in a model  \n",
    "3) Develop several classification models utilizing different algorithms and select the best performing model to evaluate on the training data set.\n",
    "\n",
    "# Prepare\n",
    "Steps:\n",
    "1) Remove the `charges` column  \n",
    "2) Add a categorical description of bmi based on binned values  \n",
    "3) Use one-hot encoding to convert categorical variables to numeric   \n",
    "4) Split the data into train, validate, and test sets  \n",
    "5) Seperate the target variable  \n",
    "6) Create a scaled version of the dataframes for clustering algorithms  "
   ]
  },
  {
   "cell_type": "markdown",
   "metadata": {},
   "source": [
    "#### Remove the `charges` column"
   ]
  },
  {
   "cell_type": "code",
   "execution_count": 8,
   "metadata": {},
   "outputs": [],
   "source": [
    "raw_csv_data.drop(columns=['charges'], inplace=True)"
   ]
  },
  {
   "cell_type": "markdown",
   "metadata": {},
   "source": [
    "#### Add Categorical Variable for BMI"
   ]
  },
  {
   "cell_type": "code",
   "execution_count": 9,
   "metadata": {},
   "outputs": [],
   "source": [
    "def categorize_bmi(bmi):\n",
    "    if bmi < 18.5:\n",
    "        return 'underweight'\n",
    "    elif bmi < 25:\n",
    "        return 'normal_weight'\n",
    "    elif bmi < 30:\n",
    "        return 'overweight'\n",
    "    else:\n",
    "        return 'obese'"
   ]
  },
  {
   "cell_type": "code",
   "execution_count": 10,
   "metadata": {},
   "outputs": [],
   "source": [
    "raw_csv_data['bmi_category'] = raw_csv_data.bmi.apply(categorize_bmi)"
   ]
  },
  {
   "cell_type": "code",
   "execution_count": 11,
   "metadata": {},
   "outputs": [
    {
     "data": {
      "text/plain": [
       "array(['overweight', 'obese', 'normal_weight', 'underweight'],\n",
       "      dtype=object)"
      ]
     },
     "execution_count": 11,
     "metadata": {},
     "output_type": "execute_result"
    }
   ],
   "source": [
    "raw_csv_data.bmi_category.unique()"
   ]
  },
  {
   "cell_type": "markdown",
   "metadata": {},
   "source": [
    "#### One-hot Encoding for Categorical Variables"
   ]
  },
  {
   "cell_type": "code",
   "execution_count": 12,
   "metadata": {},
   "outputs": [],
   "source": [
    "def one_hot_encoding(df, features):\n",
    "    '''\n",
    "    Takes in a dataframe (df) and a list of categorical (object type) features (features) to encode as numeric dummy variables, then drops the\n",
    "    original listed feature columns from the dataframe.\n",
    "    \n",
    "    Returns the dataframe\n",
    "    '''\n",
    "    for feature in features:\n",
    "        df[feature] = df[feature].astype(object)\n",
    "    obj_df = df[features]\n",
    "    dummy_df = pd.get_dummies(obj_df, dummy_na=False, drop_first=True)\n",
    "    df = pd.concat([df, dummy_df], axis=1)\n",
    "    df.drop(columns=features, inplace=True)\n",
    "    return df"
   ]
  },
  {
   "cell_type": "code",
   "execution_count": 13,
   "metadata": {},
   "outputs": [],
   "source": [
    "raw_csv_data = one_hot_encoding(raw_csv_data, ['bmi_category', 'sex', 'smoker', 'region'])"
   ]
  },
  {
   "cell_type": "code",
   "execution_count": 14,
   "metadata": {},
   "outputs": [
    {
     "data": {
      "text/html": [
       "<div>\n",
       "<style scoped>\n",
       "    .dataframe tbody tr th:only-of-type {\n",
       "        vertical-align: middle;\n",
       "    }\n",
       "\n",
       "    .dataframe tbody tr th {\n",
       "        vertical-align: top;\n",
       "    }\n",
       "\n",
       "    .dataframe thead th {\n",
       "        text-align: right;\n",
       "    }\n",
       "</style>\n",
       "<table border=\"1\" class=\"dataframe\">\n",
       "  <thead>\n",
       "    <tr style=\"text-align: right;\">\n",
       "      <th></th>\n",
       "      <th>age</th>\n",
       "      <th>bmi</th>\n",
       "      <th>children</th>\n",
       "      <th>bmi_category_obese</th>\n",
       "      <th>bmi_category_overweight</th>\n",
       "      <th>bmi_category_underweight</th>\n",
       "      <th>sex_male</th>\n",
       "      <th>smoker_yes</th>\n",
       "      <th>region_northwest</th>\n",
       "      <th>region_southeast</th>\n",
       "      <th>region_southwest</th>\n",
       "    </tr>\n",
       "  </thead>\n",
       "  <tbody>\n",
       "    <tr>\n",
       "      <th>0</th>\n",
       "      <td>19</td>\n",
       "      <td>27.900</td>\n",
       "      <td>0</td>\n",
       "      <td>0</td>\n",
       "      <td>1</td>\n",
       "      <td>0</td>\n",
       "      <td>0</td>\n",
       "      <td>1</td>\n",
       "      <td>0</td>\n",
       "      <td>0</td>\n",
       "      <td>1</td>\n",
       "    </tr>\n",
       "    <tr>\n",
       "      <th>1</th>\n",
       "      <td>18</td>\n",
       "      <td>33.770</td>\n",
       "      <td>1</td>\n",
       "      <td>1</td>\n",
       "      <td>0</td>\n",
       "      <td>0</td>\n",
       "      <td>1</td>\n",
       "      <td>0</td>\n",
       "      <td>0</td>\n",
       "      <td>1</td>\n",
       "      <td>0</td>\n",
       "    </tr>\n",
       "    <tr>\n",
       "      <th>2</th>\n",
       "      <td>28</td>\n",
       "      <td>33.000</td>\n",
       "      <td>3</td>\n",
       "      <td>1</td>\n",
       "      <td>0</td>\n",
       "      <td>0</td>\n",
       "      <td>1</td>\n",
       "      <td>0</td>\n",
       "      <td>0</td>\n",
       "      <td>1</td>\n",
       "      <td>0</td>\n",
       "    </tr>\n",
       "    <tr>\n",
       "      <th>3</th>\n",
       "      <td>33</td>\n",
       "      <td>22.705</td>\n",
       "      <td>0</td>\n",
       "      <td>0</td>\n",
       "      <td>0</td>\n",
       "      <td>0</td>\n",
       "      <td>1</td>\n",
       "      <td>0</td>\n",
       "      <td>1</td>\n",
       "      <td>0</td>\n",
       "      <td>0</td>\n",
       "    </tr>\n",
       "    <tr>\n",
       "      <th>4</th>\n",
       "      <td>32</td>\n",
       "      <td>28.880</td>\n",
       "      <td>0</td>\n",
       "      <td>0</td>\n",
       "      <td>1</td>\n",
       "      <td>0</td>\n",
       "      <td>1</td>\n",
       "      <td>0</td>\n",
       "      <td>1</td>\n",
       "      <td>0</td>\n",
       "      <td>0</td>\n",
       "    </tr>\n",
       "    <tr>\n",
       "      <th>...</th>\n",
       "      <td>...</td>\n",
       "      <td>...</td>\n",
       "      <td>...</td>\n",
       "      <td>...</td>\n",
       "      <td>...</td>\n",
       "      <td>...</td>\n",
       "      <td>...</td>\n",
       "      <td>...</td>\n",
       "      <td>...</td>\n",
       "      <td>...</td>\n",
       "      <td>...</td>\n",
       "    </tr>\n",
       "    <tr>\n",
       "      <th>1333</th>\n",
       "      <td>50</td>\n",
       "      <td>30.970</td>\n",
       "      <td>3</td>\n",
       "      <td>1</td>\n",
       "      <td>0</td>\n",
       "      <td>0</td>\n",
       "      <td>1</td>\n",
       "      <td>0</td>\n",
       "      <td>1</td>\n",
       "      <td>0</td>\n",
       "      <td>0</td>\n",
       "    </tr>\n",
       "    <tr>\n",
       "      <th>1334</th>\n",
       "      <td>18</td>\n",
       "      <td>31.920</td>\n",
       "      <td>0</td>\n",
       "      <td>1</td>\n",
       "      <td>0</td>\n",
       "      <td>0</td>\n",
       "      <td>0</td>\n",
       "      <td>0</td>\n",
       "      <td>0</td>\n",
       "      <td>0</td>\n",
       "      <td>0</td>\n",
       "    </tr>\n",
       "    <tr>\n",
       "      <th>1335</th>\n",
       "      <td>18</td>\n",
       "      <td>36.850</td>\n",
       "      <td>0</td>\n",
       "      <td>1</td>\n",
       "      <td>0</td>\n",
       "      <td>0</td>\n",
       "      <td>0</td>\n",
       "      <td>0</td>\n",
       "      <td>0</td>\n",
       "      <td>1</td>\n",
       "      <td>0</td>\n",
       "    </tr>\n",
       "    <tr>\n",
       "      <th>1336</th>\n",
       "      <td>21</td>\n",
       "      <td>25.800</td>\n",
       "      <td>0</td>\n",
       "      <td>0</td>\n",
       "      <td>1</td>\n",
       "      <td>0</td>\n",
       "      <td>0</td>\n",
       "      <td>0</td>\n",
       "      <td>0</td>\n",
       "      <td>0</td>\n",
       "      <td>1</td>\n",
       "    </tr>\n",
       "    <tr>\n",
       "      <th>1337</th>\n",
       "      <td>61</td>\n",
       "      <td>29.070</td>\n",
       "      <td>0</td>\n",
       "      <td>0</td>\n",
       "      <td>1</td>\n",
       "      <td>0</td>\n",
       "      <td>0</td>\n",
       "      <td>1</td>\n",
       "      <td>1</td>\n",
       "      <td>0</td>\n",
       "      <td>0</td>\n",
       "    </tr>\n",
       "  </tbody>\n",
       "</table>\n",
       "<p>1338 rows × 11 columns</p>\n",
       "</div>"
      ],
      "text/plain": [
       "      age     bmi  children  bmi_category_obese  bmi_category_overweight  \\\n",
       "0      19  27.900         0                   0                        1   \n",
       "1      18  33.770         1                   1                        0   \n",
       "2      28  33.000         3                   1                        0   \n",
       "3      33  22.705         0                   0                        0   \n",
       "4      32  28.880         0                   0                        1   \n",
       "...   ...     ...       ...                 ...                      ...   \n",
       "1333   50  30.970         3                   1                        0   \n",
       "1334   18  31.920         0                   1                        0   \n",
       "1335   18  36.850         0                   1                        0   \n",
       "1336   21  25.800         0                   0                        1   \n",
       "1337   61  29.070         0                   0                        1   \n",
       "\n",
       "      bmi_category_underweight  sex_male  smoker_yes  region_northwest  \\\n",
       "0                            0         0           1                 0   \n",
       "1                            0         1           0                 0   \n",
       "2                            0         1           0                 0   \n",
       "3                            0         1           0                 1   \n",
       "4                            0         1           0                 1   \n",
       "...                        ...       ...         ...               ...   \n",
       "1333                         0         1           0                 1   \n",
       "1334                         0         0           0                 0   \n",
       "1335                         0         0           0                 0   \n",
       "1336                         0         0           0                 0   \n",
       "1337                         0         0           1                 1   \n",
       "\n",
       "      region_southeast  region_southwest  \n",
       "0                    0                 1  \n",
       "1                    1                 0  \n",
       "2                    1                 0  \n",
       "3                    0                 0  \n",
       "4                    0                 0  \n",
       "...                ...               ...  \n",
       "1333                 0                 0  \n",
       "1334                 0                 0  \n",
       "1335                 1                 0  \n",
       "1336                 0                 1  \n",
       "1337                 0                 0  \n",
       "\n",
       "[1338 rows x 11 columns]"
      ]
     },
     "execution_count": 14,
     "metadata": {},
     "output_type": "execute_result"
    }
   ],
   "source": [
    "raw_csv_data"
   ]
  },
  {
   "cell_type": "markdown",
   "metadata": {},
   "source": [
    "#### Split into train, validate, and test sets"
   ]
  },
  {
   "cell_type": "code",
   "execution_count": 15,
   "metadata": {},
   "outputs": [],
   "source": [
    "from sklearn.model_selection import train_test_split"
   ]
  },
  {
   "cell_type": "code",
   "execution_count": 16,
   "metadata": {},
   "outputs": [],
   "source": [
    "train_validate, test = train_test_split(raw_csv_data, test_size=.10, random_state = 123)\n",
    "train, validate = train_test_split(train_validate, test_size=.20, random_state = 123)"
   ]
  },
  {
   "cell_type": "code",
   "execution_count": 17,
   "metadata": {},
   "outputs": [
    {
     "data": {
      "text/plain": [
       "((1338, 11), (963, 11), (241, 11), (134, 11))"
      ]
     },
     "execution_count": 17,
     "metadata": {},
     "output_type": "execute_result"
    }
   ],
   "source": [
    "raw_csv_data.shape, train.shape, validate.shape, test.shape"
   ]
  },
  {
   "cell_type": "code",
   "execution_count": 18,
   "metadata": {},
   "outputs": [
    {
     "data": {
      "text/plain": [
       "True"
      ]
     },
     "execution_count": 18,
     "metadata": {},
     "output_type": "execute_result"
    }
   ],
   "source": [
    "raw_csv_data.shape[0] == train.shape[0] + validate.shape[0] + test.shape[0]"
   ]
  },
  {
   "cell_type": "markdown",
   "metadata": {},
   "source": [
    "#### Separate the target variable"
   ]
  },
  {
   "cell_type": "code",
   "execution_count": 20,
   "metadata": {},
   "outputs": [],
   "source": [
    "y_train = train['smoker_yes']\n",
    "x_train = train.drop(columns=['smoker_yes'])"
   ]
  },
  {
   "cell_type": "code",
   "execution_count": 21,
   "metadata": {},
   "outputs": [
    {
     "name": "stdout",
     "output_type": "stream",
     "text": [
      "<class 'pandas.core.frame.DataFrame'>\n",
      "Int64Index: 963 entries, 1145 to 140\n",
      "Data columns (total 10 columns):\n",
      " #   Column                    Non-Null Count  Dtype  \n",
      "---  ------                    --------------  -----  \n",
      " 0   age                       963 non-null    int64  \n",
      " 1   bmi                       963 non-null    float64\n",
      " 2   children                  963 non-null    int64  \n",
      " 3   bmi_category_obese        963 non-null    uint8  \n",
      " 4   bmi_category_overweight   963 non-null    uint8  \n",
      " 5   bmi_category_underweight  963 non-null    uint8  \n",
      " 6   sex_male                  963 non-null    uint8  \n",
      " 7   region_northwest          963 non-null    uint8  \n",
      " 8   region_southeast          963 non-null    uint8  \n",
      " 9   region_southwest          963 non-null    uint8  \n",
      "dtypes: float64(1), int64(2), uint8(7)\n",
      "memory usage: 36.7 KB\n"
     ]
    }
   ],
   "source": [
    "x_train.info()"
   ]
  },
  {
   "cell_type": "code",
   "execution_count": 22,
   "metadata": {},
   "outputs": [],
   "source": [
    "y_validate = validate['smoker_yes']\n",
    "x_validate = validate.drop(columns=['smoker_yes'])"
   ]
  },
  {
   "cell_type": "code",
   "execution_count": 23,
   "metadata": {},
   "outputs": [
    {
     "name": "stdout",
     "output_type": "stream",
     "text": [
      "<class 'pandas.core.frame.DataFrame'>\n",
      "Int64Index: 241 entries, 389 to 283\n",
      "Data columns (total 10 columns):\n",
      " #   Column                    Non-Null Count  Dtype  \n",
      "---  ------                    --------------  -----  \n",
      " 0   age                       241 non-null    int64  \n",
      " 1   bmi                       241 non-null    float64\n",
      " 2   children                  241 non-null    int64  \n",
      " 3   bmi_category_obese        241 non-null    uint8  \n",
      " 4   bmi_category_overweight   241 non-null    uint8  \n",
      " 5   bmi_category_underweight  241 non-null    uint8  \n",
      " 6   sex_male                  241 non-null    uint8  \n",
      " 7   region_northwest          241 non-null    uint8  \n",
      " 8   region_southeast          241 non-null    uint8  \n",
      " 9   region_southwest          241 non-null    uint8  \n",
      "dtypes: float64(1), int64(2), uint8(7)\n",
      "memory usage: 9.2 KB\n"
     ]
    }
   ],
   "source": [
    "x_validate.info()"
   ]
  },
  {
   "cell_type": "code",
   "execution_count": 24,
   "metadata": {},
   "outputs": [],
   "source": [
    "y_test = validate['smoker_yes']\n",
    "x_test = validate.drop(columns=['smoker_yes'])"
   ]
  },
  {
   "cell_type": "code",
   "execution_count": 25,
   "metadata": {},
   "outputs": [
    {
     "name": "stdout",
     "output_type": "stream",
     "text": [
      "<class 'pandas.core.frame.DataFrame'>\n",
      "Int64Index: 241 entries, 389 to 283\n",
      "Data columns (total 10 columns):\n",
      " #   Column                    Non-Null Count  Dtype  \n",
      "---  ------                    --------------  -----  \n",
      " 0   age                       241 non-null    int64  \n",
      " 1   bmi                       241 non-null    float64\n",
      " 2   children                  241 non-null    int64  \n",
      " 3   bmi_category_obese        241 non-null    uint8  \n",
      " 4   bmi_category_overweight   241 non-null    uint8  \n",
      " 5   bmi_category_underweight  241 non-null    uint8  \n",
      " 6   sex_male                  241 non-null    uint8  \n",
      " 7   region_northwest          241 non-null    uint8  \n",
      " 8   region_southeast          241 non-null    uint8  \n",
      " 9   region_southwest          241 non-null    uint8  \n",
      "dtypes: float64(1), int64(2), uint8(7)\n",
      "memory usage: 9.2 KB\n"
     ]
    }
   ],
   "source": [
    "x_test.info()"
   ]
  },
  {
   "cell_type": "markdown",
   "metadata": {},
   "source": [
    "#### Create scaled version of the `x_train`, `x_validate`, and `x_test` sets"
   ]
  },
  {
   "cell_type": "code",
   "execution_count": 26,
   "metadata": {},
   "outputs": [],
   "source": [
    "from sklearn.preprocessing import MinMaxScaler"
   ]
  },
  {
   "cell_type": "code",
   "execution_count": 27,
   "metadata": {},
   "outputs": [],
   "source": [
    "def min_max_scaler(train, validate, test):\n",
    "    '''\n",
    "    Accepts three dataframes and applies a linear transformer to convert values in each dataframe\n",
    "    to a value from 0 to 1 while mantaining relative distance between values. \n",
    "    Columns containing object data types are dropped, as strings cannot be directly scaled.\n",
    "\n",
    "    Parameters (train, validate, test) = three dataframes being scaled\n",
    "    \n",
    "    Returns (scaler, train_scaled, validate_scaled, test_scaled)\n",
    "    '''\n",
    "    train = train.select_dtypes(exclude=['object'])\n",
    "    validate = validate.select_dtypes(exclude=['object'])\n",
    "    test = test.select_dtypes(exclude=['object'])    \n",
    "    scaler = MinMaxScaler(copy=True, feature_range=(0,1)).fit(train)\n",
    "    train_scaled = pd.DataFrame(scaler.transform(train), columns=train.columns.values).set_index([train.index.values])\n",
    "    validate_scaled = pd.DataFrame(scaler.transform(validate), columns=validate.columns.values).set_index([validate.index.values])\n",
    "    test_scaled = pd.DataFrame(scaler.transform(test), columns=test.columns.values).set_index([test.index.values])\n",
    "    return scaler, train_scaled, validate_scaled, test_scaled "
   ]
  },
  {
   "cell_type": "code",
   "execution_count": 28,
   "metadata": {},
   "outputs": [],
   "source": [
    "scaler, x_train_scaled, x_validate_scaled, x_test_scaled = min_max_scaler(x_train, x_validate, x_test)"
   ]
  },
  {
   "cell_type": "code",
   "execution_count": 29,
   "metadata": {},
   "outputs": [
    {
     "data": {
      "text/html": [
       "<div>\n",
       "<style scoped>\n",
       "    .dataframe tbody tr th:only-of-type {\n",
       "        vertical-align: middle;\n",
       "    }\n",
       "\n",
       "    .dataframe tbody tr th {\n",
       "        vertical-align: top;\n",
       "    }\n",
       "\n",
       "    .dataframe thead th {\n",
       "        text-align: right;\n",
       "    }\n",
       "</style>\n",
       "<table border=\"1\" class=\"dataframe\">\n",
       "  <thead>\n",
       "    <tr style=\"text-align: right;\">\n",
       "      <th></th>\n",
       "      <th>age</th>\n",
       "      <th>bmi</th>\n",
       "      <th>children</th>\n",
       "      <th>bmi_category_obese</th>\n",
       "      <th>bmi_category_overweight</th>\n",
       "      <th>bmi_category_underweight</th>\n",
       "      <th>sex_male</th>\n",
       "      <th>region_northwest</th>\n",
       "      <th>region_southeast</th>\n",
       "      <th>region_southwest</th>\n",
       "    </tr>\n",
       "  </thead>\n",
       "  <tbody>\n",
       "    <tr>\n",
       "      <th>1145</th>\n",
       "      <td>0.739130</td>\n",
       "      <td>0.438793</td>\n",
       "      <td>0.6</td>\n",
       "      <td>1.0</td>\n",
       "      <td>0.0</td>\n",
       "      <td>0.0</td>\n",
       "      <td>1.0</td>\n",
       "      <td>1.0</td>\n",
       "      <td>0.0</td>\n",
       "      <td>0.0</td>\n",
       "    </tr>\n",
       "    <tr>\n",
       "      <th>619</th>\n",
       "      <td>0.804348</td>\n",
       "      <td>0.561349</td>\n",
       "      <td>0.0</td>\n",
       "      <td>1.0</td>\n",
       "      <td>0.0</td>\n",
       "      <td>0.0</td>\n",
       "      <td>0.0</td>\n",
       "      <td>0.0</td>\n",
       "      <td>0.0</td>\n",
       "      <td>1.0</td>\n",
       "    </tr>\n",
       "    <tr>\n",
       "      <th>776</th>\n",
       "      <td>0.478261</td>\n",
       "      <td>0.425333</td>\n",
       "      <td>0.4</td>\n",
       "      <td>1.0</td>\n",
       "      <td>0.0</td>\n",
       "      <td>0.0</td>\n",
       "      <td>1.0</td>\n",
       "      <td>1.0</td>\n",
       "      <td>0.0</td>\n",
       "      <td>0.0</td>\n",
       "    </tr>\n",
       "    <tr>\n",
       "      <th>176</th>\n",
       "      <td>0.434783</td>\n",
       "      <td>0.298810</td>\n",
       "      <td>0.4</td>\n",
       "      <td>0.0</td>\n",
       "      <td>1.0</td>\n",
       "      <td>0.0</td>\n",
       "      <td>1.0</td>\n",
       "      <td>1.0</td>\n",
       "      <td>0.0</td>\n",
       "      <td>0.0</td>\n",
       "    </tr>\n",
       "    <tr>\n",
       "      <th>805</th>\n",
       "      <td>0.586957</td>\n",
       "      <td>0.524936</td>\n",
       "      <td>0.0</td>\n",
       "      <td>1.0</td>\n",
       "      <td>0.0</td>\n",
       "      <td>0.0</td>\n",
       "      <td>0.0</td>\n",
       "      <td>1.0</td>\n",
       "      <td>0.0</td>\n",
       "      <td>0.0</td>\n",
       "    </tr>\n",
       "  </tbody>\n",
       "</table>\n",
       "</div>"
      ],
      "text/plain": [
       "           age       bmi  children  bmi_category_obese  \\\n",
       "1145  0.739130  0.438793       0.6                 1.0   \n",
       "619   0.804348  0.561349       0.0                 1.0   \n",
       "776   0.478261  0.425333       0.4                 1.0   \n",
       "176   0.434783  0.298810       0.4                 0.0   \n",
       "805   0.586957  0.524936       0.0                 1.0   \n",
       "\n",
       "      bmi_category_overweight  bmi_category_underweight  sex_male  \\\n",
       "1145                      0.0                       0.0       1.0   \n",
       "619                       0.0                       0.0       0.0   \n",
       "776                       0.0                       0.0       1.0   \n",
       "176                       1.0                       0.0       1.0   \n",
       "805                       0.0                       0.0       0.0   \n",
       "\n",
       "      region_northwest  region_southeast  region_southwest  \n",
       "1145               1.0               0.0               0.0  \n",
       "619                0.0               0.0               1.0  \n",
       "776                1.0               0.0               0.0  \n",
       "176                1.0               0.0               0.0  \n",
       "805                1.0               0.0               0.0  "
      ]
     },
     "execution_count": 29,
     "metadata": {},
     "output_type": "execute_result"
    }
   ],
   "source": [
    "x_train_scaled.head()"
   ]
  },
  {
   "cell_type": "markdown",
   "metadata": {},
   "source": [
    "# Explore\n",
    "Let's start with summary statistics"
   ]
  },
  {
   "cell_type": "code",
   "execution_count": 30,
   "metadata": {},
   "outputs": [
    {
     "data": {
      "text/html": [
       "<div>\n",
       "<style scoped>\n",
       "    .dataframe tbody tr th:only-of-type {\n",
       "        vertical-align: middle;\n",
       "    }\n",
       "\n",
       "    .dataframe tbody tr th {\n",
       "        vertical-align: top;\n",
       "    }\n",
       "\n",
       "    .dataframe thead th {\n",
       "        text-align: right;\n",
       "    }\n",
       "</style>\n",
       "<table border=\"1\" class=\"dataframe\">\n",
       "  <thead>\n",
       "    <tr style=\"text-align: right;\">\n",
       "      <th></th>\n",
       "      <th>age</th>\n",
       "      <th>bmi</th>\n",
       "      <th>children</th>\n",
       "      <th>bmi_category_obese</th>\n",
       "      <th>bmi_category_overweight</th>\n",
       "      <th>bmi_category_underweight</th>\n",
       "      <th>sex_male</th>\n",
       "      <th>region_northwest</th>\n",
       "      <th>region_southeast</th>\n",
       "      <th>region_southwest</th>\n",
       "    </tr>\n",
       "  </thead>\n",
       "  <tbody>\n",
       "    <tr>\n",
       "      <th>count</th>\n",
       "      <td>963.000000</td>\n",
       "      <td>963.000000</td>\n",
       "      <td>963.000000</td>\n",
       "      <td>963.000000</td>\n",
       "      <td>963.000000</td>\n",
       "      <td>963.000000</td>\n",
       "      <td>963.000000</td>\n",
       "      <td>963.000000</td>\n",
       "      <td>963.000000</td>\n",
       "      <td>963.000000</td>\n",
       "    </tr>\n",
       "    <tr>\n",
       "      <th>mean</th>\n",
       "      <td>39.364486</td>\n",
       "      <td>30.653178</td>\n",
       "      <td>1.094496</td>\n",
       "      <td>0.530633</td>\n",
       "      <td>0.292835</td>\n",
       "      <td>0.011423</td>\n",
       "      <td>0.499481</td>\n",
       "      <td>0.256490</td>\n",
       "      <td>0.271028</td>\n",
       "      <td>0.244029</td>\n",
       "    </tr>\n",
       "    <tr>\n",
       "      <th>std</th>\n",
       "      <td>14.112595</td>\n",
       "      <td>5.852029</td>\n",
       "      <td>1.210832</td>\n",
       "      <td>0.499320</td>\n",
       "      <td>0.455300</td>\n",
       "      <td>0.106320</td>\n",
       "      <td>0.500260</td>\n",
       "      <td>0.436922</td>\n",
       "      <td>0.444722</td>\n",
       "      <td>0.429733</td>\n",
       "    </tr>\n",
       "    <tr>\n",
       "      <th>min</th>\n",
       "      <td>18.000000</td>\n",
       "      <td>17.290000</td>\n",
       "      <td>0.000000</td>\n",
       "      <td>0.000000</td>\n",
       "      <td>0.000000</td>\n",
       "      <td>0.000000</td>\n",
       "      <td>0.000000</td>\n",
       "      <td>0.000000</td>\n",
       "      <td>0.000000</td>\n",
       "      <td>0.000000</td>\n",
       "    </tr>\n",
       "    <tr>\n",
       "      <th>25%</th>\n",
       "      <td>26.500000</td>\n",
       "      <td>26.410000</td>\n",
       "      <td>0.000000</td>\n",
       "      <td>0.000000</td>\n",
       "      <td>0.000000</td>\n",
       "      <td>0.000000</td>\n",
       "      <td>0.000000</td>\n",
       "      <td>0.000000</td>\n",
       "      <td>0.000000</td>\n",
       "      <td>0.000000</td>\n",
       "    </tr>\n",
       "    <tr>\n",
       "      <th>50%</th>\n",
       "      <td>40.000000</td>\n",
       "      <td>30.495000</td>\n",
       "      <td>1.000000</td>\n",
       "      <td>1.000000</td>\n",
       "      <td>0.000000</td>\n",
       "      <td>0.000000</td>\n",
       "      <td>0.000000</td>\n",
       "      <td>0.000000</td>\n",
       "      <td>0.000000</td>\n",
       "      <td>0.000000</td>\n",
       "    </tr>\n",
       "    <tr>\n",
       "      <th>75%</th>\n",
       "      <td>51.500000</td>\n",
       "      <td>34.590000</td>\n",
       "      <td>2.000000</td>\n",
       "      <td>1.000000</td>\n",
       "      <td>1.000000</td>\n",
       "      <td>0.000000</td>\n",
       "      <td>1.000000</td>\n",
       "      <td>1.000000</td>\n",
       "      <td>1.000000</td>\n",
       "      <td>0.000000</td>\n",
       "    </tr>\n",
       "    <tr>\n",
       "      <th>max</th>\n",
       "      <td>64.000000</td>\n",
       "      <td>52.580000</td>\n",
       "      <td>5.000000</td>\n",
       "      <td>1.000000</td>\n",
       "      <td>1.000000</td>\n",
       "      <td>1.000000</td>\n",
       "      <td>1.000000</td>\n",
       "      <td>1.000000</td>\n",
       "      <td>1.000000</td>\n",
       "      <td>1.000000</td>\n",
       "    </tr>\n",
       "  </tbody>\n",
       "</table>\n",
       "</div>"
      ],
      "text/plain": [
       "              age         bmi    children  bmi_category_obese  \\\n",
       "count  963.000000  963.000000  963.000000          963.000000   \n",
       "mean    39.364486   30.653178    1.094496            0.530633   \n",
       "std     14.112595    5.852029    1.210832            0.499320   \n",
       "min     18.000000   17.290000    0.000000            0.000000   \n",
       "25%     26.500000   26.410000    0.000000            0.000000   \n",
       "50%     40.000000   30.495000    1.000000            1.000000   \n",
       "75%     51.500000   34.590000    2.000000            1.000000   \n",
       "max     64.000000   52.580000    5.000000            1.000000   \n",
       "\n",
       "       bmi_category_overweight  bmi_category_underweight    sex_male  \\\n",
       "count               963.000000                963.000000  963.000000   \n",
       "mean                  0.292835                  0.011423    0.499481   \n",
       "std                   0.455300                  0.106320    0.500260   \n",
       "min                   0.000000                  0.000000    0.000000   \n",
       "25%                   0.000000                  0.000000    0.000000   \n",
       "50%                   0.000000                  0.000000    0.000000   \n",
       "75%                   1.000000                  0.000000    1.000000   \n",
       "max                   1.000000                  1.000000    1.000000   \n",
       "\n",
       "       region_northwest  region_southeast  region_southwest  \n",
       "count        963.000000        963.000000        963.000000  \n",
       "mean           0.256490          0.271028          0.244029  \n",
       "std            0.436922          0.444722          0.429733  \n",
       "min            0.000000          0.000000          0.000000  \n",
       "25%            0.000000          0.000000          0.000000  \n",
       "50%            0.000000          0.000000          0.000000  \n",
       "75%            1.000000          1.000000          0.000000  \n",
       "max            1.000000          1.000000          1.000000  "
      ]
     },
     "execution_count": 30,
     "metadata": {},
     "output_type": "execute_result"
    }
   ],
   "source": [
    "x_train.describe()"
   ]
  },
  {
   "cell_type": "code",
   "execution_count": null,
   "metadata": {},
   "outputs": [],
   "source": []
  }
 ],
 "metadata": {
  "kernelspec": {
   "display_name": "Python 3",
   "language": "python",
   "name": "python3"
  },
  "language_info": {
   "codemirror_mode": {
    "name": "ipython",
    "version": 3
   },
   "file_extension": ".py",
   "mimetype": "text/x-python",
   "name": "python",
   "nbconvert_exporter": "python",
   "pygments_lexer": "ipython3",
   "version": "3.7.9"
  }
 },
 "nbformat": 4,
 "nbformat_minor": 4
}
